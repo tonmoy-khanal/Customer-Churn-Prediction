{
  "nbformat": 4,
  "nbformat_minor": 0,
  "metadata": {
    "colab": {
      "provenance": []
    },
    "kernelspec": {
      "name": "python3",
      "display_name": "Python 3"
    },
    "language_info": {
      "name": "python"
    }
  },
  "cells": [
    {
      "cell_type": "code",
      "execution_count": 1,
      "metadata": {
        "colab": {
          "base_uri": "https://localhost:8080/",
          "height": 17
        },
        "id": "XHxvEQKbtdBa",
        "outputId": "18272d33-9b64-4b3a-c172-ba5339bee2e1"
      },
      "outputs": [
        {
          "output_type": "display_data",
          "data": {
            "text/html": [
              "        <script type=\"text/javascript\">\n",
              "        window.PlotlyConfig = {MathJaxConfig: 'local'};\n",
              "        if (window.MathJax && window.MathJax.Hub && window.MathJax.Hub.Config) {window.MathJax.Hub.Config({SVG: {font: \"STIX-Web\"}});}\n",
              "        if (typeof require !== 'undefined') {\n",
              "        require.undef(\"plotly\");\n",
              "        requirejs.config({\n",
              "            paths: {\n",
              "                'plotly': ['https://cdn.plot.ly/plotly-2.24.1.min']\n",
              "            }\n",
              "        });\n",
              "        require(['plotly'], function(Plotly) {\n",
              "            window._Plotly = Plotly;\n",
              "        });\n",
              "        }\n",
              "        </script>\n",
              "        "
            ]
          },
          "metadata": {}
        }
      ],
      "source": [
        "import numpy as np\n",
        "import pandas as pd\n",
        "import matplotlib.pyplot as plt\n",
        "import seaborn as sns\n",
        "import plotly.express as px\n",
        "from plotly.offline import download_plotlyjs, init_notebook_mode, plot, iplot\n",
        "import cufflinks as cf # Works as a connector between the pandas library and plotly\n",
        "cf.go_offline()\n",
        "from sklearn.model_selection import GridSearchCV"
      ]
    },
    {
      "cell_type": "code",
      "source": [
        "import pandas as pd\n",
        "\n",
        "# Load the dataset from Excel\n",
        "df = pd.read_excel('/content/customer_churn_large_dataset.xlsx')\n",
        "\n",
        "# Display basic information about the dataset\n",
        "print(df.info())"
      ],
      "metadata": {
        "colab": {
          "base_uri": "https://localhost:8080/"
        },
        "id": "Gmgtjly3vpfc",
        "outputId": "84bc1edd-f6c9-433a-8027-0c9ca181f60e"
      },
      "execution_count": 3,
      "outputs": [
        {
          "output_type": "stream",
          "name": "stdout",
          "text": [
            "<class 'pandas.core.frame.DataFrame'>\n",
            "RangeIndex: 100000 entries, 0 to 99999\n",
            "Data columns (total 9 columns):\n",
            " #   Column                      Non-Null Count   Dtype  \n",
            "---  ------                      --------------   -----  \n",
            " 0   CustomerID                  100000 non-null  int64  \n",
            " 1   Name                        100000 non-null  object \n",
            " 2   Age                         100000 non-null  int64  \n",
            " 3   Gender                      100000 non-null  object \n",
            " 4   Location                    100000 non-null  object \n",
            " 5   Subscription_Length_Months  100000 non-null  int64  \n",
            " 6   Monthly_Bill                100000 non-null  float64\n",
            " 7   Total_Usage_GB              100000 non-null  int64  \n",
            " 8   Churn                       100000 non-null  int64  \n",
            "dtypes: float64(1), int64(5), object(3)\n",
            "memory usage: 6.9+ MB\n",
            "None\n"
          ]
        }
      ]
    },
    {
      "cell_type": "code",
      "source": [
        "# Drop unnecessary columns (CustomerID and Name)\n",
        "df_cleaned = df.drop(['CustomerID', 'Name'], axis=1)\n",
        "\n",
        "# Drop rows with missing values\n",
        "df_cleaned = df_cleaned.dropna()\n",
        "\n",
        "# Handle outliers using z-score method\n",
        "from scipy import stats\n",
        "z_scores = stats.zscore(df_cleaned[['Age', 'Subscription_Length_Months', 'Monthly_Bill', 'Total_Usage_GB']])\n",
        "df_cleaned_no_outliers = df_cleaned[(z_scores < 3).all(axis=1)]\n",
        "\n",
        "# Separate features (X) and target (y)\n",
        "X = df_cleaned_no_outliers.drop('Churn', axis=1)\n",
        "y = df_cleaned_no_outliers['Churn']\n"
      ],
      "metadata": {
        "id": "-sJIatFLv7e_"
      },
      "execution_count": 4,
      "outputs": []
    },
    {
      "cell_type": "code",
      "source": [
        "# Encode categorical variables using one-hot encoding\n",
        "X_encoded = pd.get_dummies(X, columns=['Gender', 'Location'])\n",
        "\n",
        "# Scale the numeric columns\n",
        "from sklearn.preprocessing import StandardScaler\n",
        "scaler = StandardScaler()\n",
        "numeric_columns = ['Age', 'Subscription_Length_Months', 'Monthly_Bill', 'Total_Usage_GB']\n",
        "X_scaled = X_encoded.copy()\n",
        "X_scaled[numeric_columns] = scaler.fit_transform(X_encoded[numeric_columns])"
      ],
      "metadata": {
        "id": "45SEo2v9w0bz"
      },
      "execution_count": 5,
      "outputs": []
    },
    {
      "cell_type": "code",
      "source": [
        "from sklearn.model_selection import train_test_split\n",
        "from sklearn.linear_model import LogisticRegression\n",
        "from sklearn.metrics import accuracy_score, precision_score, recall_score, f1_score\n",
        "\n",
        "# Split the data into training and testing sets\n",
        "X_train, X_test, y_train, y_test = train_test_split(X_scaled, y, test_size=0.2, random_state=42)\n",
        "\n",
        "# Create a Logistic Regression model\n",
        "model = LogisticRegression()\n",
        "\n",
        "# Train the model on the training data\n",
        "model.fit(X_train, y_train)\n",
        "\n",
        "# Predict on the test data\n",
        "y_pred = model.predict(X_test)\n",
        "\n",
        "# Evaluate the model's performance\n",
        "accuracy = accuracy_score(y_test, y_pred)\n",
        "precision = precision_score(y_test, y_pred)\n",
        "recall = recall_score(y_test, y_pred)\n",
        "f1 = f1_score(y_test, y_pred)\n",
        "\n",
        "print(\"Accuracy:\", accuracy)\n",
        "print(\"Precision:\", precision)\n",
        "print(\"Recall:\", recall)\n",
        "print(\"F1 Score:\", f1)\n"
      ],
      "metadata": {
        "colab": {
          "base_uri": "https://localhost:8080/"
        },
        "id": "o5L2dtblxiSU",
        "outputId": "1c6a5414-bf10-44f5-f57c-5d33c0595f77"
      },
      "execution_count": 6,
      "outputs": [
        {
          "output_type": "stream",
          "name": "stdout",
          "text": [
            "Accuracy: 0.5037\n",
            "Precision: 0.49966777408637875\n",
            "Recall: 0.3789940530188489\n",
            "F1 Score: 0.431044365470595\n"
          ]
        }
      ]
    },
    {
      "cell_type": "code",
      "source": [
        "from sklearn.ensemble import RandomForestClassifier\n",
        "\n",
        "# Create a Random Forest Classifier model\n",
        "rf_model = RandomForestClassifier(random_state=42)\n",
        "\n",
        "# Train the model on the training data\n",
        "rf_model.fit(X_train, y_train)\n",
        "\n",
        "# Predict on the test data\n",
        "rf_y_pred = rf_model.predict(X_test)\n",
        "\n",
        "# Evaluate the model's performance\n",
        "rf_accuracy = accuracy_score(y_test, rf_y_pred)\n",
        "rf_precision = precision_score(y_test, rf_y_pred)\n",
        "rf_recall = recall_score(y_test, rf_y_pred)\n",
        "rf_f1 = f1_score(y_test, rf_y_pred)\n",
        "\n",
        "print(\"Random Forest Classifier:\")\n",
        "print(\"Accuracy:\", rf_accuracy)\n",
        "print(\"Precision:\", rf_precision)\n",
        "print(\"Recall:\", rf_recall)\n",
        "print(\"F1 Score:\", rf_f1)"
      ],
      "metadata": {
        "colab": {
          "base_uri": "https://localhost:8080/"
        },
        "id": "jQQYpdDX50vD",
        "outputId": "dcaec7f7-fd57-4fd2-9498-aa9605e128c3"
      },
      "execution_count": 7,
      "outputs": [
        {
          "output_type": "stream",
          "name": "stdout",
          "text": [
            "Random Forest Classifier:\n",
            "Accuracy: 0.497\n",
            "Precision: 0.49268189954722547\n",
            "Recall: 0.4716258441689346\n",
            "F1 Score: 0.48192398805232267\n"
          ]
        }
      ]
    },
    {
      "cell_type": "code",
      "source": [
        "from sklearn.svm import SVC\n",
        "\n",
        "# Create a Support Vector Machine Classifier model\n",
        "svm_model = SVC(random_state=42)\n",
        "\n",
        "# Train the model on the training data\n",
        "svm_model.fit(X_train, y_train)\n",
        "\n",
        "# Predict on the test data\n",
        "svm_y_pred = svm_model.predict(X_test)\n",
        "\n",
        "# Evaluate the model's performance\n",
        "svm_accuracy = accuracy_score(y_test, svm_y_pred)\n",
        "svm_precision = precision_score(y_test, svm_y_pred)\n",
        "svm_recall = recall_score(y_test, svm_y_pred)\n",
        "svm_f1 = f1_score(y_test, svm_y_pred)\n",
        "\n",
        "print(\"Support Vector Machine (SVM) Classifier:\")\n",
        "print(\"Accuracy:\", svm_accuracy)\n",
        "print(\"Precision:\", svm_precision)\n",
        "print(\"Recall:\", svm_recall)\n",
        "print(\"F1 Score:\", svm_f1)\n"
      ],
      "metadata": {
        "colab": {
          "base_uri": "https://localhost:8080/"
        },
        "id": "rveMe83f54Xe",
        "outputId": "ddfa7249-e91e-42f1-bb69-84e418c9819f"
      },
      "execution_count": 8,
      "outputs": [
        {
          "output_type": "stream",
          "name": "stdout",
          "text": [
            "Support Vector Machine (SVM) Classifier:\n",
            "Accuracy: 0.50185\n",
            "Precision: 0.4975756176402678\n",
            "Recall: 0.43443201290192524\n",
            "F1 Score: 0.4638648226874025\n"
          ]
        }
      ]
    },
    {
      "cell_type": "code",
      "source": [
        "from sklearn.ensemble import GradientBoostingClassifier\n",
        "\n",
        "# Create a Gradient Boosting Classifier model\n",
        "gb_model = GradientBoostingClassifier(random_state=42)\n",
        "\n",
        "# Train the model on the training data\n",
        "gb_model.fit(X_train, y_train)\n",
        "\n",
        "# Predict on the test data\n",
        "gb_y_pred = gb_model.predict(X_test)\n",
        "\n",
        "# Evaluate the model's performance\n",
        "gb_accuracy = accuracy_score(y_test, gb_y_pred)\n",
        "gb_precision = precision_score(y_test, gb_y_pred)\n",
        "gb_recall = recall_score(y_test, gb_y_pred)\n",
        "gb_f1 = f1_score(y_test, gb_y_pred)\n",
        "\n",
        "print(\"Gradient Boosting Classifier:\")\n",
        "print(\"Accuracy:\", gb_accuracy)\n",
        "print(\"Precision:\", gb_precision)\n",
        "print(\"Recall:\", gb_recall)\n",
        "print(\"F1 Score:\", gb_f1)\n"
      ],
      "metadata": {
        "colab": {
          "base_uri": "https://localhost:8080/"
        },
        "id": "1dIn8qlT6Rze",
        "outputId": "75191d6a-8634-4cdb-d14e-387c7865b9c7"
      },
      "execution_count": 9,
      "outputs": [
        {
          "output_type": "stream",
          "name": "stdout",
          "text": [
            "Gradient Boosting Classifier:\n",
            "Accuracy: 0.49935\n",
            "Precision: 0.49490022172949\n",
            "Recall: 0.4499546416691866\n",
            "F1 Score: 0.47135842880523726\n"
          ]
        }
      ]
    },
    {
      "cell_type": "code",
      "source": [
        "from sklearn.neural_network import MLPClassifier\n",
        "\n",
        "# Create a Neural Network model\n",
        "nn_model = MLPClassifier(random_state=42)\n",
        "\n",
        "# Train the model on the training data\n",
        "nn_model.fit(X_train, y_train)\n",
        "\n",
        "# Predict on the test data\n",
        "nn_y_pred = nn_model.predict(X_test)\n",
        "\n",
        "# Evaluate the model's performance\n",
        "nn_accuracy = accuracy_score(y_test, nn_y_pred)\n",
        "nn_precision = precision_score(y_test, nn_y_pred)\n",
        "nn_recall = recall_score(y_test, nn_y_pred)\n",
        "nn_f1 = f1_score(y_test, nn_y_pred)\n",
        "\n",
        "print(\"Neural Network Classifier:\")\n",
        "print(\"Accuracy:\", nn_accuracy)\n",
        "print(\"Precision:\", nn_precision)\n",
        "print(\"Recall:\", nn_recall)\n",
        "print(\"F1 Score:\", nn_f1)\n"
      ],
      "metadata": {
        "colab": {
          "base_uri": "https://localhost:8080/"
        },
        "id": "Df_sP6n76SxZ",
        "outputId": "8d9b3aff-3e8a-4d21-f0fa-cc6bec863e5b"
      },
      "execution_count": 10,
      "outputs": [
        {
          "output_type": "stream",
          "name": "stdout",
          "text": [
            "Neural Network Classifier:\n",
            "Accuracy: 0.50605\n",
            "Precision: 0.5033578509753758\n",
            "Recall: 0.31730672311258945\n",
            "F1 Score: 0.38924265842349304\n"
          ]
        }
      ]
    },
    {
      "cell_type": "code",
      "source": [
        "print(\"Logistic Regression:\")\n",
        "print(\"Accuracy:\", accuracy)\n",
        "print(\"Precision:\", precision)\n",
        "print(\"Recall:\", recall)\n",
        "print(\"F1 Score:\", f1)\n",
        "\n",
        "print(\"\\nRandom Forest Classifier:\")\n",
        "print(\"Accuracy:\", rf_accuracy)\n",
        "print(\"Precision:\", rf_precision)\n",
        "print(\"Recall:\", rf_recall)\n",
        "print(\"F1 Score:\", rf_f1)\n",
        "\n",
        "print(\"\\nSupport Vector Machine (SVM) Classifier:\")\n",
        "print(\"Accuracy:\", svm_accuracy)\n",
        "print(\"Precision:\", svm_precision)\n",
        "print(\"Recall:\", svm_recall)\n",
        "print(\"F1 Score:\", svm_f1)\n",
        "\n",
        "print(\"\\nNeural Network model:\")\n",
        "print(\"Accuracy:\", svm_accuracy)\n",
        "print(\"Precision:\", svm_precision)\n",
        "print(\"Recall:\", svm_recall)\n",
        "print(\"F1 Score:\", svm_f1)\n",
        "\n",
        "print(\"\\nGradient Boosting Classifier:\")\n",
        "print(\"Accuracy:\", svm_accuracy)\n",
        "print(\"Precision:\", svm_precision)\n",
        "print(\"Recall:\", svm_recall)\n",
        "print(\"F1 Score:\", svm_f1)\n"
      ],
      "metadata": {
        "colab": {
          "base_uri": "https://localhost:8080/"
        },
        "id": "FQmt5Hbl6DGO",
        "outputId": "b4d3b05e-811c-4790-ff68-f911ded08c9a"
      },
      "execution_count": 11,
      "outputs": [
        {
          "output_type": "stream",
          "name": "stdout",
          "text": [
            "Logistic Regression:\n",
            "Accuracy: 0.5037\n",
            "Precision: 0.49966777408637875\n",
            "Recall: 0.3789940530188489\n",
            "F1 Score: 0.431044365470595\n",
            "\n",
            "Random Forest Classifier:\n",
            "Accuracy: 0.497\n",
            "Precision: 0.49268189954722547\n",
            "Recall: 0.4716258441689346\n",
            "F1 Score: 0.48192398805232267\n",
            "\n",
            "Support Vector Machine (SVM) Classifier:\n",
            "Accuracy: 0.50185\n",
            "Precision: 0.4975756176402678\n",
            "Recall: 0.43443201290192524\n",
            "F1 Score: 0.4638648226874025\n",
            "\n",
            "Neural Network model:\n",
            "Accuracy: 0.50185\n",
            "Precision: 0.4975756176402678\n",
            "Recall: 0.43443201290192524\n",
            "F1 Score: 0.4638648226874025\n",
            "\n",
            "Gradient Boosting Classifier:\n",
            "Accuracy: 0.50185\n",
            "Precision: 0.4975756176402678\n",
            "Recall: 0.43443201290192524\n",
            "F1 Score: 0.4638648226874025\n"
          ]
        }
      ]
    },
    {
      "cell_type": "code",
      "source": [
        "def predict_churn(new_data):\n",
        "    # Preprocess new data\n",
        "    new_data_cleaned = new_data.drop(['CustomerID', 'Name'], axis=1)\n",
        "    new_data_encoded = pd.get_dummies(new_data_cleaned, columns=['Gender', 'Location'])\n",
        "    new_data_scaled = new_data_encoded.copy()\n",
        "    new_data_scaled[numeric_columns] = scaler.transform(new_data_encoded[numeric_columns])\n",
        "\n",
        "    # Make predictions using the trained model\n",
        "    predictions = model.predict(new_data_scaled)\n",
        "    return predictions\n"
      ],
      "metadata": {
        "id": "39g0B3Obxnus"
      },
      "execution_count": 12,
      "outputs": []
    },
    {
      "cell_type": "code",
      "source": [
        "def predict_churn(new_data):\n",
        "    # Preprocess new data\n",
        "    new_data_cleaned = new_data.drop(['CustomerID', 'Name'], axis=1)\n",
        "    new_data_encoded = pd.get_dummies(new_data_cleaned, columns=['Gender', 'Location'])\n",
        "    new_data_scaled = new_data_encoded.copy()\n",
        "    new_data_scaled[numeric_columns] = scaler.transform(new_data_encoded[numeric_columns])\n",
        "\n",
        "    # Make predictions using the trained model\n",
        "    predictions = model.predict(new_data_scaled)\n",
        "\n",
        "    # Process predictions (if needed) and return results\n",
        "    result = []\n",
        "    for pred in predictions:\n",
        "        if pred == 0:\n",
        "            result.append('Not Churn')\n",
        "        else:\n",
        "            result.append('Churn')\n",
        "\n",
        "    return result"
      ],
      "metadata": {
        "id": "IXUjB6bPRnc-"
      },
      "execution_count": 13,
      "outputs": []
    },
    {
      "cell_type": "code",
      "source": [
        "print(X_test.columns)"
      ],
      "metadata": {
        "colab": {
          "base_uri": "https://localhost:8080/"
        },
        "id": "Xo1_D6doRp6I",
        "outputId": "36871155-3d95-4c22-d005-da09b74b6a93"
      },
      "execution_count": 14,
      "outputs": [
        {
          "output_type": "stream",
          "name": "stdout",
          "text": [
            "Index(['Age', 'Subscription_Length_Months', 'Monthly_Bill', 'Total_Usage_GB',\n",
            "       'Gender_Female', 'Gender_Male', 'Location_Chicago', 'Location_Houston',\n",
            "       'Location_Los Angeles', 'Location_Miami', 'Location_New York'],\n",
            "      dtype='object')\n"
          ]
        }
      ]
    },
    {
      "cell_type": "code",
      "source": [
        "# Scale the numeric columns in the test dataset\n",
        "X_test_scaled = X_test.copy()  # Create a copy of X_test to avoid modifying the original DataFrame\n",
        "X_test_scaled[numeric_columns] = scaler.transform(X_test_scaled[numeric_columns])\n",
        "\n",
        "# Predict on the scaled test data\n",
        "y_pred = model.predict(X_test_scaled)\n",
        "\n",
        "# Evaluate the model's performance on the test data\n",
        "test_accuracy = accuracy_score(y_test, y_pred)\n",
        "test_precision = precision_score(y_test, y_pred)\n",
        "test_recall = recall_score(y_test, y_pred)\n",
        "test_f1 = f1_score(y_test, y_pred)\n",
        "\n",
        "print(\"Model Performance on Test Data:\")\n",
        "print(\"Accuracy:\", test_accuracy)\n",
        "print(\"Precision:\", test_precision)\n",
        "print(\"Recall:\", test_recall)\n",
        "print(\"F1 Score:\", test_f1)"
      ],
      "metadata": {
        "colab": {
          "base_uri": "https://localhost:8080/"
        },
        "id": "3rGkGq8wTMZu",
        "outputId": "bbcab487-3791-426b-fd05-d92feef823d3"
      },
      "execution_count": 15,
      "outputs": [
        {
          "output_type": "stream",
          "name": "stdout",
          "text": [
            "Model Performance on Test Data:\n",
            "Accuracy: 0.50345\n",
            "Precision: 0.4991397109428768\n",
            "Recall: 0.29241003931055337\n",
            "F1 Score: 0.36877899955507537\n"
          ]
        }
      ]
    },
    {
      "cell_type": "code",
      "source": [
        "import pickle"
      ],
      "metadata": {
        "id": "B9EkxKImFNiv"
      },
      "execution_count": 18,
      "outputs": []
    },
    {
      "cell_type": "code",
      "source": [
        "# Perform feature scaling\n",
        "scaler = StandardScaler()\n",
        "X_train_scaled = scaler.fit_transform(X_train)\n",
        "X_test_scaled = scaler.transform(X_test)\n",
        "\n",
        "# Instantiate and train your SVM model\n",
        "svm_model = SVC(kernel='linear')  # You can adjust parameters as needed\n",
        "svm_model.fit(X_train_scaled, y_train)\n",
        "\n",
        "# Save the trained SVM model using pickle\n",
        "with open('trained_model.pkl', 'wb') as model_file:\n",
        "    pickle.dump(svm_model, model_file)"
      ],
      "metadata": {
        "id": "qJecY3iOZKMx"
      },
      "execution_count": 19,
      "outputs": []
    },
    {
      "cell_type": "code",
      "source": [
        "# Save the scaler using pickle\n",
        "with open('scaler.pkl', 'wb') as scaler_file:\n",
        "    pickle.dump(scaler, scaler_file)"
      ],
      "metadata": {
        "id": "A4RZIw0_ZK0R"
      },
      "execution_count": 20,
      "outputs": []
    },
    {
      "cell_type": "code",
      "source": [
        "from flask import Flask, request, jsonify\n",
        "import pickle\n",
        "import pandas as pd\n",
        "from sklearn.preprocessing import StandardScaler\n",
        "\n",
        "app = Flask(__name__)\n",
        "\n",
        "# Load the trained model\n",
        "with open('trained_model.pkl', 'rb') as model_file:\n",
        "    model = pickle.load(model_file)\n",
        "\n",
        "# Load the scaler\n",
        "with open('scaler.pkl', 'rb') as scaler_file:\n",
        "    scaler = pickle.load(scaler_file)\n",
        "\n",
        "# Endpoint to receive input data and return predictions\n",
        "@app.route('/predict', methods=['POST'])\n",
        "def predict():\n",
        "    try:\n",
        "        # Get input data from the request\n",
        "        input_data = request.json\n",
        "\n",
        "        # Preprocess input data\n",
        "        input_df = pd.DataFrame(input_data, index=[0])\n",
        "        input_scaled = scaler.transform(input_df)\n",
        "\n",
        "        # Make predictions\n",
        "        predictions = model.predict(input_scaled)\n",
        "\n",
        "        # Format predictions\n",
        "        churn_labels = ['Not Churn', 'Churn']\n",
        "        prediction_labels = [churn_labels[pred] for pred in predictions]\n",
        "\n",
        "        return jsonify({'predictions': prediction_labels})\n",
        "    except Exception as e:\n",
        "        return jsonify({'error': str(e)})\n",
        "\n",
        "if __name__ == '__main__':\n",
        "    app.run(host='127.0.0.1', port=5000)"
      ],
      "metadata": {
        "id": "ed0vVaw-b8na",
        "colab": {
          "base_uri": "https://localhost:8080/"
        },
        "outputId": "eaae5ab0-8c40-4d51-90a1-cfc6a6dae7a1"
      },
      "execution_count": 22,
      "outputs": [
        {
          "output_type": "stream",
          "name": "stdout",
          "text": [
            " * Serving Flask app '__main__'\n",
            " * Debug mode: off\n"
          ]
        },
        {
          "output_type": "stream",
          "name": "stderr",
          "text": [
            "INFO:werkzeug:\u001b[31m\u001b[1mWARNING: This is a development server. Do not use it in a production deployment. Use a production WSGI server instead.\u001b[0m\n",
            " * Running on http://127.0.0.1:5000\n",
            "INFO:werkzeug:\u001b[33mPress CTRL+C to quit\u001b[0m\n"
          ]
        }
      ]
    }
  ]
}